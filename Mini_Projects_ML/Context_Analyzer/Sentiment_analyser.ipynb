{
 "cells": [
  {
   "cell_type": "code",
   "execution_count": 595,
   "id": "01d82526",
   "metadata": {},
   "outputs": [],
   "source": [
    "import spacy\n",
    "from sklearn.feature_extraction.text import CountVectorizer,TfidfVectorizer\n",
    "from sklearn.metrics import classification_report\n",
    "from sklearn.model_selection import train_test_split\n",
    "from sklearn.svm import LinearSVC\n",
    "from sklearn.pipeline import Pipeline\n",
    "from spacy.tokenizer import Tokenizer\n",
    "import pandas as pd"
   ]
  },
  {
   "cell_type": "code",
   "execution_count": 596,
   "id": "6cf22230",
   "metadata": {},
   "outputs": [],
   "source": [
    "df2=pd.read_csv(\"C:/Users/vvhem/Jupyter_content/ML_Model_Dept/filtered.csv\")"
   ]
  },
  {
   "cell_type": "code",
   "execution_count": 597,
   "id": "38581941",
   "metadata": {},
   "outputs": [
    {
     "data": {
      "text/plain": [
       "Unnamed: 0         0\n",
       "result             0\n",
       "refined_reviews    0\n",
       "dtype: int64"
      ]
     },
     "execution_count": 597,
     "metadata": {},
     "output_type": "execute_result"
    }
   ],
   "source": [
    "df2.isna().sum()"
   ]
  },
  {
   "cell_type": "code",
   "execution_count": 598,
   "id": "abdc0c4f",
   "metadata": {},
   "outputs": [
    {
     "data": {
      "text/plain": [
       "Unnamed: 0         0\n",
       "result             0\n",
       "refined_reviews    0\n",
       "dtype: int64"
      ]
     },
     "execution_count": 598,
     "metadata": {},
     "output_type": "execute_result"
    }
   ],
   "source": [
    "df2.isnull().sum()"
   ]
  },
  {
   "cell_type": "code",
   "execution_count": 599,
   "id": "16389067",
   "metadata": {},
   "outputs": [],
   "source": [
    "df2=df2.dropna()"
   ]
  },
  {
   "cell_type": "code",
   "execution_count": 600,
   "id": "ba2b5437",
   "metadata": {},
   "outputs": [
    {
     "data": {
      "text/plain": [
       "1    643\n",
       "0    619\n",
       "Name: result, dtype: int64"
      ]
     },
     "execution_count": 600,
     "metadata": {},
     "output_type": "execute_result"
    }
   ],
   "source": [
    "df2.result.value_counts()"
   ]
  },
  {
   "cell_type": "code",
   "execution_count": 601,
   "id": "50e97a2f",
   "metadata": {},
   "outputs": [],
   "source": [
    "X=df2[\"refined_reviews\"]\n",
    "y=df2[\"result\"]"
   ]
  },
  {
   "cell_type": "code",
   "execution_count": 602,
   "id": "964f3090",
   "metadata": {},
   "outputs": [],
   "source": [
    "X_train,X_test,y_train,y_test=train_test_split(X,y,test_size=0.2)"
   ]
  },
  {
   "cell_type": "code",
   "execution_count": 603,
   "id": "f093b0d6",
   "metadata": {},
   "outputs": [
    {
     "data": {
      "text/plain": [
       "114                            Everything is appalling.  \n",
       "1186                       Easy set up very user friendly\n",
       "209                     I couldn't take them seriously.  \n",
       "651     There is, however, some pretty good acting (at...\n",
       "1085          I like it and still learning how to use it.\n",
       "Name: refined_reviews, dtype: object"
      ]
     },
     "execution_count": 603,
     "metadata": {},
     "output_type": "execute_result"
    }
   ],
   "source": [
    "X_train.head(5)"
   ]
  },
  {
   "cell_type": "code",
   "execution_count": 604,
   "id": "9d9bff00",
   "metadata": {},
   "outputs": [],
   "source": [
    "vectorizer=TfidfVectorizer(\n",
    "analyzer='word',\n",
    "ngram_range=(1,2),\n",
    "use_idf=True)"
   ]
  },
  {
   "cell_type": "code",
   "execution_count": 605,
   "id": "68c4b385",
   "metadata": {},
   "outputs": [],
   "source": [
    "train_vector=vectorizer.fit_transform(X_train)\n",
    "test_vector=vectorizer.transform(X_test)"
   ]
  },
  {
   "cell_type": "code",
   "execution_count": 606,
   "id": "358c0449",
   "metadata": {},
   "outputs": [
    {
     "data": {
      "text/plain": [
       "LinearSVC()"
      ]
     },
     "execution_count": 606,
     "metadata": {},
     "output_type": "execute_result"
    }
   ],
   "source": [
    "classifier_model=LinearSVC()\n",
    "classifier_model.fit(train_vector,y_train)\n"
   ]
  },
  {
   "cell_type": "code",
   "execution_count": 607,
   "id": "c965e1f0",
   "metadata": {},
   "outputs": [
    {
     "data": {
      "text/plain": [
       "array([1, 0, 1, 0, 1, 0, 0, 0, 1, 0, 1, 0, 0, 1, 0, 1, 1, 0, 1, 1, 0, 0,\n",
       "       1, 1, 1, 1, 0, 1, 1, 1, 1, 1, 0, 1, 1, 1, 0, 1, 1, 1, 0, 1, 1, 0,\n",
       "       0, 1, 1, 1, 1, 1, 0, 0, 1, 0, 0, 0, 0, 0, 0, 0, 0, 0, 0, 1, 1, 0,\n",
       "       0, 1, 0, 0, 1, 0, 0, 0, 1, 1, 1, 1, 1, 0, 1, 1, 0, 1, 0, 1, 0, 1,\n",
       "       0, 1, 1, 0, 1, 1, 1, 0, 1, 0, 0, 1, 1, 1, 0, 0, 1, 0, 1, 1, 0, 1,\n",
       "       1, 1, 0, 0, 1, 0, 0, 0, 0, 0, 0, 1, 0, 1, 1, 0, 0, 0, 0, 1, 1, 0,\n",
       "       1, 1, 0, 1, 1, 0, 0, 0, 1, 1, 1, 0, 0, 0, 0, 1, 0, 1, 1, 1, 0, 0,\n",
       "       0, 0, 1, 0, 1, 1, 0, 0, 0, 1, 1, 0, 1, 0, 0, 1, 0, 0, 0, 1, 0, 0,\n",
       "       1, 0, 1, 1, 1, 0, 0, 0, 0, 0, 1, 1, 0, 1, 1, 0, 1, 1, 1, 1, 0, 1,\n",
       "       1, 1, 1, 0, 1, 0, 0, 1, 1, 1, 0, 1, 0, 1, 1, 1, 0, 1, 0, 0, 1, 0,\n",
       "       1, 1, 0, 1, 0, 0, 0, 1, 0, 1, 1, 0, 1, 0, 0, 1, 0, 1, 1, 0, 1, 1,\n",
       "       0, 1, 0, 1, 1, 1, 1, 1, 1, 0, 1], dtype=int64)"
      ]
     },
     "execution_count": 607,
     "metadata": {},
     "output_type": "execute_result"
    }
   ],
   "source": [
    "classifier_model.predict(test_vector)"
   ]
  },
  {
   "cell_type": "code",
   "execution_count": 608,
   "id": "7bd39a57",
   "metadata": {},
   "outputs": [],
   "source": [
    "sample_review=\"bad\"\n",
    "review_vector=vectorizer.transform([sample_review])"
   ]
  },
  {
   "cell_type": "code",
   "execution_count": 609,
   "id": "17926ef0",
   "metadata": {},
   "outputs": [
    {
     "data": {
      "text/plain": [
       "array([0], dtype=int64)"
      ]
     },
     "execution_count": 609,
     "metadata": {},
     "output_type": "execute_result"
    }
   ],
   "source": [
    "classifier_model.predict(review_vector)"
   ]
  },
  {
   "cell_type": "code",
   "execution_count": 610,
   "id": "5aa3d87c",
   "metadata": {},
   "outputs": [
    {
     "name": "stdout",
     "output_type": "stream",
     "text": [
      "{'0': {'precision': 0.8166666666666667, 'recall': 0.8235294117647058, 'f1-score': 0.8200836820083681, 'support': 119}, '1': {'precision': 0.8421052631578947, 'recall': 0.835820895522388, 'f1-score': 0.8389513108614232, 'support': 134}, 'accuracy': 0.8300395256916996, 'macro avg': {'precision': 0.8293859649122807, 'recall': 0.8296751536435469, 'f1-score': 0.8295174964348957, 'support': 253}, 'weighted avg': {'precision': 0.8301400735039179, 'recall': 0.8300395256916996, 'f1-score': 0.830076813495757, 'support': 253}}\n"
     ]
    }
   ],
   "source": [
    "pred=classifier_model.predict(test_vector)\n",
    "print(classification_report(y_test,pred,output_dict=True))"
   ]
  },
  {
   "cell_type": "code",
   "execution_count": 611,
   "id": "6734f8e2",
   "metadata": {},
   "outputs": [],
   "source": [
    "import pickle\n",
    "with open('Vectorizer','wb') as file:\n",
    "    pickle.dump(vectorizer,file)\n",
    "with open('Classifier_model','wb') as file:\n",
    "    pickle.dump(classifier_model,file)"
   ]
  },
  {
   "cell_type": "code",
   "execution_count": 612,
   "id": "5f7c15cc",
   "metadata": {},
   "outputs": [],
   "source": [
    "with open ('Vectorizer','rb') as file:\n",
    "    model=pickle.load(file)\n",
    "with open('Classifier_model','rb') as file:\n",
    "    model2=pickle.load(file)"
   ]
  },
  {
   "cell_type": "code",
   "execution_count": 617,
   "id": "97bee3ba",
   "metadata": {},
   "outputs": [
    {
     "data": {
      "text/plain": [
       "array([0], dtype=int64)"
      ]
     },
     "execution_count": 617,
     "metadata": {},
     "output_type": "execute_result"
    }
   ],
   "source": [
    "text3=\"it's a not worst product\"\n",
    "model2.predict(model.transform([text3]))"
   ]
  },
  {
   "cell_type": "code",
   "execution_count": null,
   "id": "46c83298",
   "metadata": {},
   "outputs": [],
   "source": []
  }
 ],
 "metadata": {
  "kernelspec": {
   "display_name": "Python 3 (ipykernel)",
   "language": "python",
   "name": "python3"
  },
  "language_info": {
   "codemirror_mode": {
    "name": "ipython",
    "version": 3
   },
   "file_extension": ".py",
   "mimetype": "text/x-python",
   "name": "python",
   "nbconvert_exporter": "python",
   "pygments_lexer": "ipython3",
   "version": "3.9.13"
  }
 },
 "nbformat": 4,
 "nbformat_minor": 5
}
